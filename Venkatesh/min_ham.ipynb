{
 "cells": [
  {
   "cell_type": "code",
   "execution_count": 14,
   "id": "994960a5",
   "metadata": {},
   "outputs": [],
   "source": [
    "import math\n",
    "import random \n",
    "import matplotlib.pyplot as plt\n",
    "from timeit import default_timer as timer\n",
    "import numpy as np"
   ]
  },
  {
   "cell_type": "code",
   "execution_count": 15,
   "id": "8f3c5092",
   "metadata": {},
   "outputs": [
    {
     "name": "stdout",
     "output_type": "stream",
     "text": [
      "[inf, 5857, 10352, 14142, 17480, 20498, 23274, 25857, 28284, 30579]\n",
      "[5857, inf, 4494, 8284, 11622, 14641, 17416, 20000, 22426, 24721]\n",
      "[10352, 4494, inf, 3789, 7127, 10146, 12921, 15505, 17931, 20226]\n",
      "[14142, 8284, 3789, inf, 3338, 6356, 9132, 11715, 14142, 16437]\n",
      "[17480, 11622, 7127, 3338, inf, 3018, 5793, 8377, 10803, 13098]\n",
      "[20498, 14641, 10146, 6356, 3018, inf, 2775, 5358, 7785, 10080]\n",
      "[23274, 17416, 12921, 9132, 5793, 2775, inf, 2583, 5009, 7304]\n",
      "[25857, 20000, 15505, 11715, 8377, 5358, 2583, inf, 2426, 4721]\n",
      "[28284, 22426, 17931, 14142, 10803, 7785, 5009, 2426, inf, 2294]\n",
      "[30579, 24721, 20226, 16437, 13098, 10080, 7304, 4721, 2294, inf]\n"
     ]
    }
   ],
   "source": [
    "#getting input\n",
    "V = int(input(\"Enter the number vertices: \"))\n",
    "adj_mat = []\n",
    "\n",
    "#creating adj_mat\n",
    "for i in range(V):\n",
    "    adj_mat.append([0,]*V)\n",
    "    \n",
    "#fill it with random triangle graph\n",
    "for i in range(1,V+1):\n",
    "    for j in range(1,V+1):\n",
    "        adj_mat[i-1][j-1] = math.floor(math.sqrt(2*(((math.sqrt(i))-(math.sqrt(j)))**2))*10000)\n",
    "\n",
    "INF = float('inf')\n",
    "for i in range(V):\n",
    "    adj_mat[i][i] = INF  \n",
    "    \n",
    "#print the adj matrix \n",
    "for i in range(1,V+1):\n",
    "    print(adj_mat[i-1])"
   ]
  },
  {
   "cell_type": "code",
   "execution_count": 3,
   "id": "8d661bde",
   "metadata": {},
   "outputs": [
    {
     "name": "stdout",
     "output_type": "stream",
     "text": [
      "Edge 0:(8, 9) cost:2294\n",
      "Edge 1:(7, 8) cost:2426\n",
      "Edge 2:(6, 7) cost:2583\n",
      "Edge 3:(5, 6) cost:2775\n",
      "Edge 4:(4, 5) cost:3018\n",
      "Edge 5:(3, 4) cost:3338\n",
      "Edge 6:(2, 3) cost:3789\n",
      "Edge 7:(1, 2) cost:4494\n",
      "Edge 8:(0, 1) cost:5857\n",
      "Minimum cost= 30574\n"
     ]
    }
   ],
   "source": [
    "mst_adj_mat = []\n",
    "parent = [i for i in range(V)]\n",
    "for i in range(V):\n",
    "    mst_adj_mat.append([INF,]*V)\n",
    "    \n",
    "#kruskal\n",
    "def find(i):\n",
    "    while parent[i] != i:\n",
    "        i = parent[i]\n",
    "    return i\n",
    " \n",
    "\n",
    "def union(i, j):\n",
    "    a = find(i)\n",
    "    b = find(j)\n",
    "    parent[a] = b\n",
    " \n",
    "\n",
    "def kruskalMST(cost):\n",
    "    mincost = 0 # Cost of min MST\n",
    " \n",
    "    # Initialize sets of disjoint sets\n",
    "    for i in range(V):\n",
    "        parent[i] = i\n",
    " \n",
    "    # Include minimum weight edges one by one\n",
    "    edge_count = 0\n",
    "    while edge_count < V - 1:\n",
    "        min = INF\n",
    "        a = -1\n",
    "        b = -1\n",
    "        for i in range(V):\n",
    "            for j in range(V):\n",
    "                if find(i) != find(j) and cost[i][j] < min:\n",
    "                    min = cost[i][j]\n",
    "                    a = i\n",
    "                    b = j\n",
    "        union(a, b)\n",
    "        print('Edge {}:({}, {}) cost:{}'.format(edge_count, a, b, min))\n",
    "        mst_adj_mat[a][b] = min\n",
    "        mst_adj_mat[b][a] = min        \n",
    "        edge_count += 1\n",
    "        mincost += min\n",
    " \n",
    "    print(\"Minimum cost= {}\".format(mincost))\n",
    " \n",
    "kruskalMST(adj_mat)"
   ]
  },
  {
   "cell_type": "code",
   "execution_count": 4,
   "id": "b561df4b",
   "metadata": {},
   "outputs": [
    {
     "name": "stdout",
     "output_type": "stream",
     "text": [
      "[inf, 5857, inf, inf, inf, inf, inf, inf, inf, inf]\n",
      "[5857, inf, 4494, inf, inf, inf, inf, inf, inf, inf]\n",
      "[inf, 4494, inf, 3789, inf, inf, inf, inf, inf, inf]\n",
      "[inf, inf, 3789, inf, 3338, inf, inf, inf, inf, inf]\n",
      "[inf, inf, inf, 3338, inf, 3018, inf, inf, inf, inf]\n",
      "[inf, inf, inf, inf, 3018, inf, 2775, inf, inf, inf]\n",
      "[inf, inf, inf, inf, inf, 2775, inf, 2583, inf, inf]\n",
      "[inf, inf, inf, inf, inf, inf, 2583, inf, 2426, inf]\n",
      "[inf, inf, inf, inf, inf, inf, inf, 2426, inf, 2294]\n",
      "[inf, inf, inf, inf, inf, inf, inf, inf, 2294, inf]\n"
     ]
    }
   ],
   "source": [
    "#printing the adj mat for mst\n",
    "for i in mst_adj_mat:\n",
    "    print(i)"
   ]
  },
  {
   "cell_type": "code",
   "execution_count": 5,
   "id": "724e0103",
   "metadata": {},
   "outputs": [
    {
     "data": {
      "text/plain": [
       "[6, 5, 4, 3, 2, 1, 0, 7, 8, 9, 6]"
      ]
     },
     "execution_count": 5,
     "metadata": {},
     "output_type": "execute_result"
    }
   ],
   "source": [
    "#generating dfs\n",
    "dfs_seq = []\n",
    "visited = [False] * V\n",
    "\n",
    "def DFS(start):\n",
    "    # Print current node\n",
    "    dfs_seq.append(start)\n",
    " \n",
    "    # Set current node as visited\n",
    "    visited[start] = True\n",
    " \n",
    "    # For every node of the graph\n",
    "    vertices = list(range(V))\n",
    "    random.shuffle(vertices)\n",
    "    for i in vertices:\n",
    "             if (mst_adj_mat[start][i] != INF and (not visited[i])):\n",
    "                DFS(i)\n",
    "DFS(random.randint(0,V-1))     \n",
    "dfs_seq.append(dfs_seq[0])\n",
    "dfs_seq"
   ]
  },
  {
   "cell_type": "code",
   "execution_count": 6,
   "id": "99eb4621",
   "metadata": {},
   "outputs": [],
   "source": [
    "min_ham_cost = 0\n",
    "for i in range(len(dfs_seq)-1):\n",
    "    min_ham_cost += adj_mat[dfs_seq[i]][dfs_seq[i+1]]"
   ]
  },
  {
   "cell_type": "code",
   "execution_count": 7,
   "id": "f1683e73",
   "metadata": {},
   "outputs": [
    {
     "data": {
      "text/plain": [
       "61152"
      ]
     },
     "execution_count": 7,
     "metadata": {},
     "output_type": "execute_result"
    }
   ],
   "source": [
    "min_ham_cost"
   ]
  },
  {
   "cell_type": "code",
   "execution_count": 8,
   "id": "ada7d029",
   "metadata": {},
   "outputs": [],
   "source": [
    "import math\n",
    "import random \n",
    "import matplotlib.pyplot as plt\n",
    "from timeit import default_timer as timer\n",
    "import numpy as np\n",
    "import time\n",
    "\n",
    "mst_costs = []\n",
    "ham_costs = []\n",
    "exec_time = []\n",
    "def solve(V):\n",
    "   #getting input\n",
    "    adj_mat = []\n",
    "\n",
    "    #creating adj_mat\n",
    "    for i in range(V):\n",
    "        adj_mat.append([0,]*V)\n",
    "\n",
    "    #fill it with random triangle graph\n",
    "    for i in range(1,V+1):\n",
    "        for j in range(1,V+1):\n",
    "            adj_mat[i-1][j-1] = math.floor(math.sqrt(2*(((math.sqrt(i))-(math.sqrt(j)))**2))*10000)\n",
    "\n",
    "    INF = float('inf')\n",
    "    for i in range(V):\n",
    "        adj_mat[i][i] = INF  \n",
    "\n",
    "    print(\"Adjacency matrix of the complete graph:\")    \n",
    "    #print the adj matrix \n",
    "    for i in range(1,V+1):\n",
    "             print(adj_mat[i-1])\n",
    "    \n",
    "    print()\n",
    "    print()\n",
    "    \n",
    "    mst_adj_mat = []\n",
    "    parent = [i for i in range(V)]\n",
    "    for i in range(V):\n",
    "        mst_adj_mat.append([INF,]*V)\n",
    "\n",
    "    print(\"Finding mst:\")    \n",
    "    #kruskal\n",
    "    def find(i):\n",
    "        while parent[i] != i:\n",
    "            i = parent[i]\n",
    "        return i\n",
    "\n",
    "\n",
    "    def union(i, j):\n",
    "        a = find(i)\n",
    "        b = find(j)\n",
    "        parent[a] = b\n",
    "\n",
    "\n",
    "    def kruskalMST(cost):\n",
    "        mincost = 0 # Cost of min MST\n",
    "\n",
    "        # Initialize sets of disjoint sets\n",
    "        for i in range(V):\n",
    "            parent[i] = i\n",
    "\n",
    "        # Include minimum weight edges one by one\n",
    "        edge_count = 0\n",
    "        while edge_count < V - 1:\n",
    "            min = INF\n",
    "            a = -1\n",
    "            b = -1\n",
    "            for i in range(V):\n",
    "                for j in range(V):\n",
    "                    if find(i) != find(j) and cost[i][j] < min:\n",
    "                        min = cost[i][j]\n",
    "                        a = i\n",
    "                        b = j\n",
    "            union(a, b)\n",
    "            print('Edge {}:({}, {}) cost:{}'.format(edge_count, a, b, min))\n",
    "            mst_adj_mat[a][b] = min\n",
    "            mst_adj_mat[b][a] = min        \n",
    "            edge_count += 1\n",
    "            mincost += min\n",
    "\n",
    "        print(\"Minimum cost= {}\".format(mincost))\n",
    "        mst_costs.append(mincost)\n",
    "\n",
    "    kruskalMST(adj_mat)\n",
    "    \n",
    "    print(\"Adjacency matrix of the mst:\")\n",
    "    #printing the adj mat for mst\n",
    "    for i in mst_adj_mat:\n",
    "        print(i)\n",
    "        \n",
    "    print()\n",
    "    print()\n",
    "    \n",
    "    #generating dfs\n",
    "    dfs_seq = []\n",
    "    visited = [False] * V\n",
    "\n",
    "    def DFS(start):\n",
    "        # Print current node\n",
    "        dfs_seq.append(start)\n",
    "\n",
    "        # Set current node as visited\n",
    "        visited[start] = True\n",
    "\n",
    "        # For every node of the graph\n",
    "        vertices = list(range(V))\n",
    "        random.shuffle(vertices)\n",
    "        for i in vertices:\n",
    "                 if (mst_adj_mat[start][i] != INF and (not visited[i])):\n",
    "                    DFS(i)\n",
    "                    \n",
    "    DFS(random.randint(0,V-1))     \n",
    "    dfs_seq.append(dfs_seq[0])\n",
    "    print(\"Min hamiltonian circuit:\")\n",
    "    print(dfs_seq)\n",
    "    print()\n",
    "    print()\n",
    "    \n",
    "    min_ham_cost = 0\n",
    "    for i in range(len(dfs_seq)-1):\n",
    "        min_ham_cost += adj_mat[dfs_seq[i]][dfs_seq[i+1]]\n",
    "     \n",
    "    print(\"Minimum hamlitonian circuits's cost\")     \n",
    "    print(min_ham_cost)   \n",
    "    ham_costs.append(min_ham_cost)"
   ]
  },
  {
   "cell_type": "code",
   "execution_count": 12,
   "id": "8853ab02",
   "metadata": {},
   "outputs": [
    {
     "name": "stdout",
     "output_type": "stream",
     "text": [
      "Adjacency matrix of the complete graph:\n",
      "[inf, 5857, 10352, 14142, 17480]\n",
      "[5857, inf, 4494, 8284, 11622]\n",
      "[10352, 4494, inf, 3789, 7127]\n",
      "[14142, 8284, 3789, inf, 3338]\n",
      "[17480, 11622, 7127, 3338, inf]\n",
      "\n",
      "\n",
      "Finding mst:\n",
      "Edge 0:(3, 4) cost:3338\n",
      "Edge 1:(2, 3) cost:3789\n",
      "Edge 2:(1, 2) cost:4494\n",
      "Edge 3:(0, 1) cost:5857\n",
      "Minimum cost= 17478\n"
     ]
    },
    {
     "ename": "AttributeError",
     "evalue": "'numpy.ndarray' object has no attribute 'append'",
     "output_type": "error",
     "traceback": [
      "\u001b[0;31m---------------------------------------------------------------------------\u001b[0m",
      "\u001b[0;31mAttributeError\u001b[0m                            Traceback (most recent call last)",
      "\u001b[1;32m/media/nitish/Education/Linux/Coding/CSPE32-Project/Venkatesh/min_ham.ipynb Cell 9\u001b[0m in \u001b[0;36m<cell line: 2>\u001b[0;34m()\u001b[0m\n\u001b[1;32m      <a href='vscode-notebook-cell:/media/nitish/Education/Linux/Coding/CSPE32-Project/Venkatesh/min_ham.ipynb#X11sZmlsZQ%3D%3D?line=1'>2</a>\u001b[0m \u001b[39mfor\u001b[39;00m V \u001b[39min\u001b[39;00m \u001b[39mrange\u001b[39m(\u001b[39m5\u001b[39m,n\u001b[39m+\u001b[39m\u001b[39m1\u001b[39m):\n\u001b[1;32m      <a href='vscode-notebook-cell:/media/nitish/Education/Linux/Coding/CSPE32-Project/Venkatesh/min_ham.ipynb#X11sZmlsZQ%3D%3D?line=2'>3</a>\u001b[0m     start \u001b[39m=\u001b[39m time\u001b[39m.\u001b[39mtime()\n\u001b[0;32m----> <a href='vscode-notebook-cell:/media/nitish/Education/Linux/Coding/CSPE32-Project/Venkatesh/min_ham.ipynb#X11sZmlsZQ%3D%3D?line=3'>4</a>\u001b[0m     solve(V)\n\u001b[1;32m      <a href='vscode-notebook-cell:/media/nitish/Education/Linux/Coding/CSPE32-Project/Venkatesh/min_ham.ipynb#X11sZmlsZQ%3D%3D?line=4'>5</a>\u001b[0m     end \u001b[39m=\u001b[39m time\u001b[39m.\u001b[39mtime()\n\u001b[1;32m      <a href='vscode-notebook-cell:/media/nitish/Education/Linux/Coding/CSPE32-Project/Venkatesh/min_ham.ipynb#X11sZmlsZQ%3D%3D?line=5'>6</a>\u001b[0m     exec_time\u001b[39m.\u001b[39mappend((end\u001b[39m-\u001b[39mstart) \u001b[39m*\u001b[39m \u001b[39m10\u001b[39m\u001b[39m*\u001b[39m\u001b[39m*\u001b[39m\u001b[39m3\u001b[39m)\n",
      "\u001b[1;32m/media/nitish/Education/Linux/Coding/CSPE32-Project/Venkatesh/min_ham.ipynb Cell 9\u001b[0m in \u001b[0;36msolve\u001b[0;34m(V)\u001b[0m\n\u001b[1;32m     <a href='vscode-notebook-cell:/media/nitish/Education/Linux/Coding/CSPE32-Project/Venkatesh/min_ham.ipynb#X11sZmlsZQ%3D%3D?line=80'>81</a>\u001b[0m     \u001b[39mprint\u001b[39m(\u001b[39m\"\u001b[39m\u001b[39mMinimum cost= \u001b[39m\u001b[39m{}\u001b[39;00m\u001b[39m\"\u001b[39m\u001b[39m.\u001b[39mformat(mincost))\n\u001b[1;32m     <a href='vscode-notebook-cell:/media/nitish/Education/Linux/Coding/CSPE32-Project/Venkatesh/min_ham.ipynb#X11sZmlsZQ%3D%3D?line=81'>82</a>\u001b[0m     mst_costs\u001b[39m.\u001b[39mappend(mincost)\n\u001b[0;32m---> <a href='vscode-notebook-cell:/media/nitish/Education/Linux/Coding/CSPE32-Project/Venkatesh/min_ham.ipynb#X11sZmlsZQ%3D%3D?line=83'>84</a>\u001b[0m kruskalMST(adj_mat)\n\u001b[1;32m     <a href='vscode-notebook-cell:/media/nitish/Education/Linux/Coding/CSPE32-Project/Venkatesh/min_ham.ipynb#X11sZmlsZQ%3D%3D?line=85'>86</a>\u001b[0m \u001b[39mprint\u001b[39m(\u001b[39m\"\u001b[39m\u001b[39mAdjacency matrix of the mst:\u001b[39m\u001b[39m\"\u001b[39m)\n\u001b[1;32m     <a href='vscode-notebook-cell:/media/nitish/Education/Linux/Coding/CSPE32-Project/Venkatesh/min_ham.ipynb#X11sZmlsZQ%3D%3D?line=86'>87</a>\u001b[0m \u001b[39m#printing the adj mat for mst\u001b[39;00m\n",
      "\u001b[1;32m/media/nitish/Education/Linux/Coding/CSPE32-Project/Venkatesh/min_ham.ipynb Cell 9\u001b[0m in \u001b[0;36msolve.<locals>.kruskalMST\u001b[0;34m(cost)\u001b[0m\n\u001b[1;32m     <a href='vscode-notebook-cell:/media/nitish/Education/Linux/Coding/CSPE32-Project/Venkatesh/min_ham.ipynb#X11sZmlsZQ%3D%3D?line=78'>79</a>\u001b[0m     mincost \u001b[39m+\u001b[39m\u001b[39m=\u001b[39m \u001b[39mmin\u001b[39m\n\u001b[1;32m     <a href='vscode-notebook-cell:/media/nitish/Education/Linux/Coding/CSPE32-Project/Venkatesh/min_ham.ipynb#X11sZmlsZQ%3D%3D?line=80'>81</a>\u001b[0m \u001b[39mprint\u001b[39m(\u001b[39m\"\u001b[39m\u001b[39mMinimum cost= \u001b[39m\u001b[39m{}\u001b[39;00m\u001b[39m\"\u001b[39m\u001b[39m.\u001b[39mformat(mincost))\n\u001b[0;32m---> <a href='vscode-notebook-cell:/media/nitish/Education/Linux/Coding/CSPE32-Project/Venkatesh/min_ham.ipynb#X11sZmlsZQ%3D%3D?line=81'>82</a>\u001b[0m mst_costs\u001b[39m.\u001b[39;49mappend(mincost)\n",
      "\u001b[0;31mAttributeError\u001b[0m: 'numpy.ndarray' object has no attribute 'append'"
     ]
    }
   ],
   "source": [
    "n = int(input(\"Enter the number of vertices till which u have to test: \"))\n",
    "for V in range(5,n+1):\n",
    "    start = time.time()\n",
    "    solve(V)\n",
    "    end = time.time()\n",
    "    exec_time.append((end-start) * 10**3)\n",
    "    "
   ]
  },
  {
   "cell_type": "code",
   "execution_count": 10,
   "id": "5cd20cca",
   "metadata": {},
   "outputs": [
    {
     "name": "stdout",
     "output_type": "stream",
     "text": [
      "[17478, 20496, 23271, 25854, 28280, 30574]\n",
      "[34958, 40994, 46545, 51711, 56564, 61152]\n"
     ]
    },
    {
     "data": {
      "image/png": "[encoded data removed]",
      "text/plain": [
       "<Figure size 432x288 with 1 Axes>"
      ]
     },
     "metadata": {
      "needs_background": "light"
     },
     "output_type": "display_data"
    }
   ],
   "source": [
    "print(mst_costs)\n",
    "print(ham_costs)\n",
    "mst_costs = 2*np.array(mst_costs)\n",
    "ham_costs = np.array(ham_costs)\n",
    "plt.plot(list(range(5,n+1)),mst_costs,'r',label = \"2*mst_cost\")\n",
    "plt.plot(list(range(5,n+1)),ham_costs,'b',label = \"min_ham_cost\")\n",
    "plt.show()"
   ]
  },
  {
   "cell_type": "code",
   "execution_count": 11,
   "id": "517475c4",
   "metadata": {},
   "outputs": [
    {
     "data": {
      "text/plain": [
       "[1.096963882446289,\n",
       " 3.367185592651367,\n",
       " 0.6535053253173828,\n",
       " 2.743959426879883,\n",
       " 8.238077163696289,\n",
       " 2.4597644805908203]"
      ]
     },
     "execution_count": 11,
     "metadata": {},
     "output_type": "execute_result"
    }
   ],
   "source": [
    "exec_time"
   ]
  },
  {
   "cell_type": "code",
   "execution_count": null,
   "id": "ad62a3fa",
   "metadata": {},
   "outputs": [],
   "source": []
  }
 ],
 "metadata": {
  "kernelspec": {
   "display_name": "Python 3.9.12 ('base')",
   "language": "python",
   "name": "python3"
  },
  "language_info": {
   "codemirror_mode": {
    "name": "ipython",
    "version": 3
   },
   "file_extension": ".py",
   "mimetype": "text/x-python",
   "name": "python",
   "nbconvert_exporter": "python",
   "pygments_lexer": "ipython3",
   "version": "3.9.12"
  },
  "vscode": {
   "interpreter": {
    "hash": "a2afb2544d682dcc4cfa61d0814735a64eaf117faa72e73b2e0f0b9de2309039"
   }
  }
 },
 "nbformat": 4,
 "nbformat_minor": 5
}
